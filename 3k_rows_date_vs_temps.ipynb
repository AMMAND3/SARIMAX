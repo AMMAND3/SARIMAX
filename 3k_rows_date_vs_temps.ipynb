{
 "cells": [
  {
   "cell_type": "code",
   "execution_count": 1,
   "id": "a822aaf6-b8d1-481b-93ec-4be094fbb87d",
   "metadata": {},
   "outputs": [],
   "source": [
    "#Loading in essentials\n",
    "import pandas as pd\n",
    "import numpy as np"
   ]
  },
  {
   "cell_type": "code",
   "execution_count": 35,
   "id": "3fb126af-e12b-4e8c-bf7f-8da56252abb9",
   "metadata": {},
   "outputs": [
    {
     "data": {
      "text/html": [
       "<div>\n",
       "<style scoped>\n",
       "    .dataframe tbody tr th:only-of-type {\n",
       "        vertical-align: middle;\n",
       "    }\n",
       "\n",
       "    .dataframe tbody tr th {\n",
       "        vertical-align: top;\n",
       "    }\n",
       "\n",
       "    .dataframe thead th {\n",
       "        text-align: right;\n",
       "    }\n",
       "</style>\n",
       "<table border=\"1\" class=\"dataframe\">\n",
       "  <thead>\n",
       "    <tr style=\"text-align: right;\">\n",
       "      <th></th>\n",
       "      <th>AverageTemperature</th>\n",
       "      <th>AverageTemperatureUncertainty</th>\n",
       "      <th>City</th>\n",
       "      <th>Country</th>\n",
       "      <th>Latitude</th>\n",
       "      <th>Longitude</th>\n",
       "    </tr>\n",
       "    <tr>\n",
       "      <th>dt</th>\n",
       "      <th></th>\n",
       "      <th></th>\n",
       "      <th></th>\n",
       "      <th></th>\n",
       "      <th></th>\n",
       "      <th></th>\n",
       "    </tr>\n",
       "  </thead>\n",
       "  <tbody>\n",
       "    <tr>\n",
       "      <th>1743-11-01</th>\n",
       "      <td>6.068</td>\n",
       "      <td>1.737</td>\n",
       "      <td>Århus</td>\n",
       "      <td>Denmark</td>\n",
       "      <td>57.05N</td>\n",
       "      <td>10.33E</td>\n",
       "    </tr>\n",
       "    <tr>\n",
       "      <th>1743-12-01</th>\n",
       "      <td>NaN</td>\n",
       "      <td>NaN</td>\n",
       "      <td>Århus</td>\n",
       "      <td>Denmark</td>\n",
       "      <td>57.05N</td>\n",
       "      <td>10.33E</td>\n",
       "    </tr>\n",
       "    <tr>\n",
       "      <th>1744-01-01</th>\n",
       "      <td>NaN</td>\n",
       "      <td>NaN</td>\n",
       "      <td>Århus</td>\n",
       "      <td>Denmark</td>\n",
       "      <td>57.05N</td>\n",
       "      <td>10.33E</td>\n",
       "    </tr>\n",
       "    <tr>\n",
       "      <th>1744-02-01</th>\n",
       "      <td>NaN</td>\n",
       "      <td>NaN</td>\n",
       "      <td>Århus</td>\n",
       "      <td>Denmark</td>\n",
       "      <td>57.05N</td>\n",
       "      <td>10.33E</td>\n",
       "    </tr>\n",
       "    <tr>\n",
       "      <th>1744-03-01</th>\n",
       "      <td>NaN</td>\n",
       "      <td>NaN</td>\n",
       "      <td>Århus</td>\n",
       "      <td>Denmark</td>\n",
       "      <td>57.05N</td>\n",
       "      <td>10.33E</td>\n",
       "    </tr>\n",
       "    <tr>\n",
       "      <th>1744-04-01</th>\n",
       "      <td>5.788</td>\n",
       "      <td>3.624</td>\n",
       "      <td>Århus</td>\n",
       "      <td>Denmark</td>\n",
       "      <td>57.05N</td>\n",
       "      <td>10.33E</td>\n",
       "    </tr>\n",
       "    <tr>\n",
       "      <th>1744-05-01</th>\n",
       "      <td>10.644</td>\n",
       "      <td>1.283</td>\n",
       "      <td>Århus</td>\n",
       "      <td>Denmark</td>\n",
       "      <td>57.05N</td>\n",
       "      <td>10.33E</td>\n",
       "    </tr>\n",
       "    <tr>\n",
       "      <th>1744-06-01</th>\n",
       "      <td>14.051</td>\n",
       "      <td>1.347</td>\n",
       "      <td>Århus</td>\n",
       "      <td>Denmark</td>\n",
       "      <td>57.05N</td>\n",
       "      <td>10.33E</td>\n",
       "    </tr>\n",
       "    <tr>\n",
       "      <th>1744-07-01</th>\n",
       "      <td>16.082</td>\n",
       "      <td>1.396</td>\n",
       "      <td>Århus</td>\n",
       "      <td>Denmark</td>\n",
       "      <td>57.05N</td>\n",
       "      <td>10.33E</td>\n",
       "    </tr>\n",
       "    <tr>\n",
       "      <th>1744-08-01</th>\n",
       "      <td>NaN</td>\n",
       "      <td>NaN</td>\n",
       "      <td>Århus</td>\n",
       "      <td>Denmark</td>\n",
       "      <td>57.05N</td>\n",
       "      <td>10.33E</td>\n",
       "    </tr>\n",
       "    <tr>\n",
       "      <th>1744-09-01</th>\n",
       "      <td>12.781</td>\n",
       "      <td>1.454</td>\n",
       "      <td>Århus</td>\n",
       "      <td>Denmark</td>\n",
       "      <td>57.05N</td>\n",
       "      <td>10.33E</td>\n",
       "    </tr>\n",
       "    <tr>\n",
       "      <th>1744-10-01</th>\n",
       "      <td>7.950</td>\n",
       "      <td>1.630</td>\n",
       "      <td>Århus</td>\n",
       "      <td>Denmark</td>\n",
       "      <td>57.05N</td>\n",
       "      <td>10.33E</td>\n",
       "    </tr>\n",
       "    <tr>\n",
       "      <th>1744-11-01</th>\n",
       "      <td>4.639</td>\n",
       "      <td>1.302</td>\n",
       "      <td>Århus</td>\n",
       "      <td>Denmark</td>\n",
       "      <td>57.05N</td>\n",
       "      <td>10.33E</td>\n",
       "    </tr>\n",
       "    <tr>\n",
       "      <th>1744-12-01</th>\n",
       "      <td>0.122</td>\n",
       "      <td>1.756</td>\n",
       "      <td>Århus</td>\n",
       "      <td>Denmark</td>\n",
       "      <td>57.05N</td>\n",
       "      <td>10.33E</td>\n",
       "    </tr>\n",
       "    <tr>\n",
       "      <th>1745-01-01</th>\n",
       "      <td>-1.333</td>\n",
       "      <td>1.642</td>\n",
       "      <td>Århus</td>\n",
       "      <td>Denmark</td>\n",
       "      <td>57.05N</td>\n",
       "      <td>10.33E</td>\n",
       "    </tr>\n",
       "    <tr>\n",
       "      <th>1745-02-01</th>\n",
       "      <td>-2.732</td>\n",
       "      <td>1.358</td>\n",
       "      <td>Århus</td>\n",
       "      <td>Denmark</td>\n",
       "      <td>57.05N</td>\n",
       "      <td>10.33E</td>\n",
       "    </tr>\n",
       "    <tr>\n",
       "      <th>1745-03-01</th>\n",
       "      <td>0.129</td>\n",
       "      <td>1.088</td>\n",
       "      <td>Århus</td>\n",
       "      <td>Denmark</td>\n",
       "      <td>57.05N</td>\n",
       "      <td>10.33E</td>\n",
       "    </tr>\n",
       "    <tr>\n",
       "      <th>1745-04-01</th>\n",
       "      <td>4.042</td>\n",
       "      <td>1.138</td>\n",
       "      <td>Århus</td>\n",
       "      <td>Denmark</td>\n",
       "      <td>57.05N</td>\n",
       "      <td>10.33E</td>\n",
       "    </tr>\n",
       "    <tr>\n",
       "      <th>1745-05-01</th>\n",
       "      <td>NaN</td>\n",
       "      <td>NaN</td>\n",
       "      <td>Århus</td>\n",
       "      <td>Denmark</td>\n",
       "      <td>57.05N</td>\n",
       "      <td>10.33E</td>\n",
       "    </tr>\n",
       "    <tr>\n",
       "      <th>1745-06-01</th>\n",
       "      <td>NaN</td>\n",
       "      <td>NaN</td>\n",
       "      <td>Århus</td>\n",
       "      <td>Denmark</td>\n",
       "      <td>57.05N</td>\n",
       "      <td>10.33E</td>\n",
       "    </tr>\n",
       "  </tbody>\n",
       "</table>\n",
       "</div>"
      ],
      "text/plain": [
       "            AverageTemperature  AverageTemperatureUncertainty   City  Country  \\\n",
       "dt                                                                              \n",
       "1743-11-01               6.068                          1.737  Århus  Denmark   \n",
       "1743-12-01                 NaN                            NaN  Århus  Denmark   \n",
       "1744-01-01                 NaN                            NaN  Århus  Denmark   \n",
       "1744-02-01                 NaN                            NaN  Århus  Denmark   \n",
       "1744-03-01                 NaN                            NaN  Århus  Denmark   \n",
       "1744-04-01               5.788                          3.624  Århus  Denmark   \n",
       "1744-05-01              10.644                          1.283  Århus  Denmark   \n",
       "1744-06-01              14.051                          1.347  Århus  Denmark   \n",
       "1744-07-01              16.082                          1.396  Århus  Denmark   \n",
       "1744-08-01                 NaN                            NaN  Århus  Denmark   \n",
       "1744-09-01              12.781                          1.454  Århus  Denmark   \n",
       "1744-10-01               7.950                          1.630  Århus  Denmark   \n",
       "1744-11-01               4.639                          1.302  Århus  Denmark   \n",
       "1744-12-01               0.122                          1.756  Århus  Denmark   \n",
       "1745-01-01              -1.333                          1.642  Århus  Denmark   \n",
       "1745-02-01              -2.732                          1.358  Århus  Denmark   \n",
       "1745-03-01               0.129                          1.088  Århus  Denmark   \n",
       "1745-04-01               4.042                          1.138  Århus  Denmark   \n",
       "1745-05-01                 NaN                            NaN  Århus  Denmark   \n",
       "1745-06-01                 NaN                            NaN  Århus  Denmark   \n",
       "\n",
       "           Latitude Longitude  \n",
       "dt                             \n",
       "1743-11-01   57.05N    10.33E  \n",
       "1743-12-01   57.05N    10.33E  \n",
       "1744-01-01   57.05N    10.33E  \n",
       "1744-02-01   57.05N    10.33E  \n",
       "1744-03-01   57.05N    10.33E  \n",
       "1744-04-01   57.05N    10.33E  \n",
       "1744-05-01   57.05N    10.33E  \n",
       "1744-06-01   57.05N    10.33E  \n",
       "1744-07-01   57.05N    10.33E  \n",
       "1744-08-01   57.05N    10.33E  \n",
       "1744-09-01   57.05N    10.33E  \n",
       "1744-10-01   57.05N    10.33E  \n",
       "1744-11-01   57.05N    10.33E  \n",
       "1744-12-01   57.05N    10.33E  \n",
       "1745-01-01   57.05N    10.33E  \n",
       "1745-02-01   57.05N    10.33E  \n",
       "1745-03-01   57.05N    10.33E  \n",
       "1745-04-01   57.05N    10.33E  \n",
       "1745-05-01   57.05N    10.33E  \n",
       "1745-06-01   57.05N    10.33E  "
      ]
     },
     "execution_count": 35,
     "metadata": {},
     "output_type": "execute_result"
    }
   ],
   "source": [
    "dataset = pd.read_csv(\"GlobalLandTemperaturesByCity.csv\", index_col=0, parse_dates=['dt'])\n",
    "dataset.head(20)"
   ]
  },
  {
   "cell_type": "code",
   "execution_count": 36,
   "id": "57cdbbcc-898c-43f3-9cfd-f2ad9f859f9c",
   "metadata": {},
   "outputs": [
    {
     "data": {
      "text/html": [
       "<div>\n",
       "<style scoped>\n",
       "    .dataframe tbody tr th:only-of-type {\n",
       "        vertical-align: middle;\n",
       "    }\n",
       "\n",
       "    .dataframe tbody tr th {\n",
       "        vertical-align: top;\n",
       "    }\n",
       "\n",
       "    .dataframe thead th {\n",
       "        text-align: right;\n",
       "    }\n",
       "</style>\n",
       "<table border=\"1\" class=\"dataframe\">\n",
       "  <thead>\n",
       "    <tr style=\"text-align: right;\">\n",
       "      <th></th>\n",
       "      <th>AverageTemperature</th>\n",
       "      <th>AverageTemperatureUncertainty</th>\n",
       "    </tr>\n",
       "  </thead>\n",
       "  <tbody>\n",
       "    <tr>\n",
       "      <th>count</th>\n",
       "      <td>8.599212e+06</td>\n",
       "      <td>8.599212e+06</td>\n",
       "    </tr>\n",
       "    <tr>\n",
       "      <th>mean</th>\n",
       "      <td>1.657916e+01</td>\n",
       "      <td>1.068112e+00</td>\n",
       "    </tr>\n",
       "    <tr>\n",
       "      <th>std</th>\n",
       "      <td>1.039822e+01</td>\n",
       "      <td>1.143335e+00</td>\n",
       "    </tr>\n",
       "    <tr>\n",
       "      <th>min</th>\n",
       "      <td>-4.270400e+01</td>\n",
       "      <td>3.400000e-02</td>\n",
       "    </tr>\n",
       "    <tr>\n",
       "      <th>25%</th>\n",
       "      <td>9.960000e+00</td>\n",
       "      <td>3.450000e-01</td>\n",
       "    </tr>\n",
       "    <tr>\n",
       "      <th>50%</th>\n",
       "      <td>1.865700e+01</td>\n",
       "      <td>6.270000e-01</td>\n",
       "    </tr>\n",
       "    <tr>\n",
       "      <th>75%</th>\n",
       "      <td>2.513800e+01</td>\n",
       "      <td>1.434000e+00</td>\n",
       "    </tr>\n",
       "    <tr>\n",
       "      <th>max</th>\n",
       "      <td>3.965100e+01</td>\n",
       "      <td>1.539600e+01</td>\n",
       "    </tr>\n",
       "  </tbody>\n",
       "</table>\n",
       "</div>"
      ],
      "text/plain": [
       "       AverageTemperature  AverageTemperatureUncertainty\n",
       "count        8.599212e+06                   8.599212e+06\n",
       "mean         1.657916e+01                   1.068112e+00\n",
       "std          1.039822e+01                   1.143335e+00\n",
       "min         -4.270400e+01                   3.400000e-02\n",
       "25%          9.960000e+00                   3.450000e-01\n",
       "50%          1.865700e+01                   6.270000e-01\n",
       "75%          2.513800e+01                   1.434000e+00\n",
       "max          3.965100e+01                   1.539600e+01"
      ]
     },
     "execution_count": 36,
     "metadata": {},
     "output_type": "execute_result"
    }
   ],
   "source": [
    "dataset[\"AverageTemperature\"] = dataset[\"AverageTemperature\"].interpolate(method='time')\n",
    "dataset[\"AverageTemperatureUncertainty\"] = dataset[\"AverageTemperatureUncertainty\"].interpolate(method='time')\n",
    "dataset.describe()"
   ]
  },
  {
   "cell_type": "code",
   "execution_count": 37,
   "id": "a5867277-cff6-415d-a3aa-6971a4f8b614",
   "metadata": {},
   "outputs": [
    {
     "data": {
      "text/html": [
       "<div>\n",
       "<style scoped>\n",
       "    .dataframe tbody tr th:only-of-type {\n",
       "        vertical-align: middle;\n",
       "    }\n",
       "\n",
       "    .dataframe tbody tr th {\n",
       "        vertical-align: top;\n",
       "    }\n",
       "\n",
       "    .dataframe thead th {\n",
       "        text-align: right;\n",
       "    }\n",
       "</style>\n",
       "<table border=\"1\" class=\"dataframe\">\n",
       "  <thead>\n",
       "    <tr style=\"text-align: right;\">\n",
       "      <th></th>\n",
       "      <th>AverageTemperature</th>\n",
       "      <th>AverageTemperatureUncertainty</th>\n",
       "      <th>Country</th>\n",
       "    </tr>\n",
       "    <tr>\n",
       "      <th>dt</th>\n",
       "      <th></th>\n",
       "      <th></th>\n",
       "      <th></th>\n",
       "    </tr>\n",
       "  </thead>\n",
       "  <tbody>\n",
       "    <tr>\n",
       "      <th>1743-11-01</th>\n",
       "      <td>6.068000</td>\n",
       "      <td>1.737000</td>\n",
       "      <td>Denmark</td>\n",
       "    </tr>\n",
       "    <tr>\n",
       "      <th>1743-12-01</th>\n",
       "      <td>7.094947</td>\n",
       "      <td>1.986487</td>\n",
       "      <td>Denmark</td>\n",
       "    </tr>\n",
       "    <tr>\n",
       "      <th>1744-01-01</th>\n",
       "      <td>6.634026</td>\n",
       "      <td>2.227757</td>\n",
       "      <td>Denmark</td>\n",
       "    </tr>\n",
       "    <tr>\n",
       "      <th>1744-02-01</th>\n",
       "      <td>6.173105</td>\n",
       "      <td>2.469026</td>\n",
       "      <td>Denmark</td>\n",
       "    </tr>\n",
       "    <tr>\n",
       "      <th>1744-03-01</th>\n",
       "      <td>5.741921</td>\n",
       "      <td>2.694730</td>\n",
       "      <td>Denmark</td>\n",
       "    </tr>\n",
       "    <tr>\n",
       "      <th>...</th>\n",
       "      <td>...</td>\n",
       "      <td>...</td>\n",
       "      <td>...</td>\n",
       "    </tr>\n",
       "    <tr>\n",
       "      <th>2013-05-01</th>\n",
       "      <td>12.774000</td>\n",
       "      <td>0.426000</td>\n",
       "      <td>Denmark</td>\n",
       "    </tr>\n",
       "    <tr>\n",
       "      <th>2013-06-01</th>\n",
       "      <td>15.685000</td>\n",
       "      <td>0.370000</td>\n",
       "      <td>Denmark</td>\n",
       "    </tr>\n",
       "    <tr>\n",
       "      <th>2013-07-01</th>\n",
       "      <td>18.735000</td>\n",
       "      <td>0.441000</td>\n",
       "      <td>Denmark</td>\n",
       "    </tr>\n",
       "    <tr>\n",
       "      <th>2013-08-01</th>\n",
       "      <td>18.067000</td>\n",
       "      <td>0.239000</td>\n",
       "      <td>Denmark</td>\n",
       "    </tr>\n",
       "    <tr>\n",
       "      <th>2013-09-01</th>\n",
       "      <td>26.195000</td>\n",
       "      <td>1.130000</td>\n",
       "      <td>Denmark</td>\n",
       "    </tr>\n",
       "  </tbody>\n",
       "</table>\n",
       "<p>12956 rows × 3 columns</p>\n",
       "</div>"
      ],
      "text/plain": [
       "            AverageTemperature  AverageTemperatureUncertainty  Country\n",
       "dt                                                                    \n",
       "1743-11-01            6.068000                       1.737000  Denmark\n",
       "1743-12-01            7.094947                       1.986487  Denmark\n",
       "1744-01-01            6.634026                       2.227757  Denmark\n",
       "1744-02-01            6.173105                       2.469026  Denmark\n",
       "1744-03-01            5.741921                       2.694730  Denmark\n",
       "...                        ...                            ...      ...\n",
       "2013-05-01           12.774000                       0.426000  Denmark\n",
       "2013-06-01           15.685000                       0.370000  Denmark\n",
       "2013-07-01           18.735000                       0.441000  Denmark\n",
       "2013-08-01           18.067000                       0.239000  Denmark\n",
       "2013-09-01           26.195000                       1.130000  Denmark\n",
       "\n",
       "[12956 rows x 3 columns]"
      ]
     },
     "execution_count": 37,
     "metadata": {},
     "output_type": "execute_result"
    }
   ],
   "source": [
    "dataset.drop('Latitude', axis=1, inplace=True)\n",
    "dataset.drop('Longitude', axis=1, inplace=True)\n",
    "dataset.drop('City', axis=1, inplace=True)\n",
    "dataset = dataset[dataset['Country'] == 'Denmark']\n",
    "dataset"
   ]
  },
  {
   "cell_type": "code",
   "execution_count": 124,
   "id": "d6efe89c-0912-410f-867f-29f5ab2ef0b6",
   "metadata": {},
   "outputs": [
    {
     "data": {
      "text/html": [
       "<div>\n",
       "<style scoped>\n",
       "    .dataframe tbody tr th:only-of-type {\n",
       "        vertical-align: middle;\n",
       "    }\n",
       "\n",
       "    .dataframe tbody tr th {\n",
       "        vertical-align: top;\n",
       "    }\n",
       "\n",
       "    .dataframe thead th {\n",
       "        text-align: right;\n",
       "    }\n",
       "</style>\n",
       "<table border=\"1\" class=\"dataframe\">\n",
       "  <thead>\n",
       "    <tr style=\"text-align: right;\">\n",
       "      <th></th>\n",
       "      <th>AverageTemperature</th>\n",
       "      <th>AverageTemperatureUncertainty</th>\n",
       "    </tr>\n",
       "    <tr>\n",
       "      <th>dt</th>\n",
       "      <th></th>\n",
       "      <th></th>\n",
       "    </tr>\n",
       "  </thead>\n",
       "  <tbody>\n",
       "    <tr>\n",
       "      <th>1743-11-01</th>\n",
       "      <td>6.068000</td>\n",
       "      <td>1.737000</td>\n",
       "    </tr>\n",
       "    <tr>\n",
       "      <th>1743-12-01</th>\n",
       "      <td>7.094947</td>\n",
       "      <td>1.986487</td>\n",
       "    </tr>\n",
       "    <tr>\n",
       "      <th>1744-01-01</th>\n",
       "      <td>6.634026</td>\n",
       "      <td>2.227757</td>\n",
       "    </tr>\n",
       "    <tr>\n",
       "      <th>1744-02-01</th>\n",
       "      <td>6.173105</td>\n",
       "      <td>2.469026</td>\n",
       "    </tr>\n",
       "    <tr>\n",
       "      <th>1744-03-01</th>\n",
       "      <td>5.741921</td>\n",
       "      <td>2.694730</td>\n",
       "    </tr>\n",
       "    <tr>\n",
       "      <th>...</th>\n",
       "      <td>...</td>\n",
       "      <td>...</td>\n",
       "    </tr>\n",
       "    <tr>\n",
       "      <th>2013-05-01</th>\n",
       "      <td>12.774000</td>\n",
       "      <td>0.426000</td>\n",
       "    </tr>\n",
       "    <tr>\n",
       "      <th>2013-06-01</th>\n",
       "      <td>15.685000</td>\n",
       "      <td>0.370000</td>\n",
       "    </tr>\n",
       "    <tr>\n",
       "      <th>2013-07-01</th>\n",
       "      <td>18.735000</td>\n",
       "      <td>0.441000</td>\n",
       "    </tr>\n",
       "    <tr>\n",
       "      <th>2013-08-01</th>\n",
       "      <td>18.067000</td>\n",
       "      <td>0.239000</td>\n",
       "    </tr>\n",
       "    <tr>\n",
       "      <th>2013-09-01</th>\n",
       "      <td>26.195000</td>\n",
       "      <td>1.130000</td>\n",
       "    </tr>\n",
       "  </tbody>\n",
       "</table>\n",
       "<p>12956 rows × 2 columns</p>\n",
       "</div>"
      ],
      "text/plain": [
       "            AverageTemperature  AverageTemperatureUncertainty\n",
       "dt                                                           \n",
       "1743-11-01            6.068000                       1.737000\n",
       "1743-12-01            7.094947                       1.986487\n",
       "1744-01-01            6.634026                       2.227757\n",
       "1744-02-01            6.173105                       2.469026\n",
       "1744-03-01            5.741921                       2.694730\n",
       "...                        ...                            ...\n",
       "2013-05-01           12.774000                       0.426000\n",
       "2013-06-01           15.685000                       0.370000\n",
       "2013-07-01           18.735000                       0.441000\n",
       "2013-08-01           18.067000                       0.239000\n",
       "2013-09-01           26.195000                       1.130000\n",
       "\n",
       "[12956 rows x 2 columns]"
      ]
     },
     "execution_count": 124,
     "metadata": {},
     "output_type": "execute_result"
    }
   ],
   "source": [
    "temp_denmark = dataset[[\"AverageTemperature\", \"AverageTemperatureUncertainty\"]]\n",
    "temp_denmark"
   ]
  },
  {
   "cell_type": "code",
   "execution_count": 125,
   "id": "50ac1f2b-116d-40ac-8bbb-a63c85fe7d67",
   "metadata": {},
   "outputs": [
    {
     "data": {
      "text/plain": [
       "<Axes: xlabel='dt'>"
      ]
     },
     "execution_count": 125,
     "metadata": {},
     "output_type": "execute_result"
    },
    {
     "data": {
      "image/png": "[encoded data removed]",
      "text/plain": [
       "<Figure size 640x480 with 1 Axes>"
      ]
     },
     "metadata": {},
     "output_type": "display_data"
    }
   ],
   "source": [
    "temp_denmark[6300:7000].plot()"
   ]
  },
  {
   "cell_type": "code",
   "execution_count": 126,
   "id": "2bfa77ea-52fa-4e27-b780-5663d0fb73b9",
   "metadata": {},
   "outputs": [],
   "source": [
    "from statsmodels.tsa.stattools import adfuller"
   ]
  },
  {
   "cell_type": "code",
   "execution_count": 127,
   "id": "cc8b8790-a900-4e3b-87e0-3625d51d965a",
   "metadata": {},
   "outputs": [],
   "source": [
    "temp_denmark = temp_denmark.groupby(temp_denmark.index).mean()\n",
    "temp_denmark.index = temp_denmark.index.to_period('M').to_timestamp('M')"
   ]
  },
  {
   "cell_type": "code",
   "execution_count": 128,
   "id": "aeb22045-838b-441c-9878-362982a7aa67",
   "metadata": {},
   "outputs": [
    {
     "data": {
      "text/plain": [
       "(-7.008885725564327,\n",
       " 7.005137305305644e-10,\n",
       " 23,\n",
       " 3215,\n",
       " {'1%': -3.4323856232770664,\n",
       "  '5%': -2.8624394154978363,\n",
       "  '10%': -2.5672487787611047},\n",
       " 12696.249791199944)"
      ]
     },
     "execution_count": 128,
     "metadata": {},
     "output_type": "execute_result"
    }
   ],
   "source": [
    "adfuller(temp_denmark['AverageTemperature'], autolag = 'BIC')"
   ]
  },
  {
   "cell_type": "code",
   "execution_count": 129,
   "id": "075a6f0e-fad7-4cca-b6fb-2140890bc1a7",
   "metadata": {},
   "outputs": [
    {
     "data": {
      "text/plain": [
       "(-1.6120280785757497,\n",
       " 0.47691106602470507,\n",
       " 23,\n",
       " 3215,\n",
       " {'1%': -3.4323856232770664,\n",
       "  '5%': -2.8624394154978363,\n",
       "  '10%': -2.5672487787611047},\n",
       " 10024.219583890776)"
      ]
     },
     "execution_count": 129,
     "metadata": {},
     "output_type": "execute_result"
    }
   ],
   "source": [
    "adfuller(temp_denmark['AverageTemperatureUncertainty'], autolag = 'BIC')"
   ]
  },
  {
   "cell_type": "code",
   "execution_count": 130,
   "id": "d7e6ae16-5e91-41ac-99fa-a38cb41eeece",
   "metadata": {},
   "outputs": [
    {
     "data": {
      "image/png": "[encoded data removed]",
      "text/plain": [
       "<Figure size 640x480 with 1 Axes>"
      ]
     },
     "metadata": {},
     "output_type": "display_data"
    },
    {
     "data": {
      "image/png": "[encoded data removed]",
      "text/plain": [
       "<Figure size 640x480 with 1 Axes>"
      ]
     },
     "metadata": {},
     "output_type": "display_data"
    }
   ],
   "source": [
    "from statsmodels.graphics.tsaplots import plot_pacf, plot_acf\n",
    "pacf_temp = plot_pacf(temp_denmark['AverageTemperature'], lags = 25)\n",
    "pacf_uncertainity = plot_pacf(temp_denmark['AverageTemperatureUncertainty'], lags = 25)"
   ]
  },
  {
   "cell_type": "code",
   "execution_count": 131,
   "id": "6b39164c-9b14-4611-bd60-d7189d5b9f21",
   "metadata": {},
   "outputs": [
    {
     "data": {
      "text/plain": [
       "dt\n",
       "1743-11-30     6.221000\n",
       "1743-12-31     7.094947\n",
       "1744-01-31     6.634026\n",
       "1744-02-29     6.173105\n",
       "1744-03-31     5.741921\n",
       "                ...    \n",
       "2013-05-31    12.772000\n",
       "2013-06-30    15.454000\n",
       "2013-07-31    18.497000\n",
       "2013-08-31    17.745000\n",
       "2013-09-30    26.195000\n",
       "Freq: ME, Name: AverageTemperature, Length: 3239, dtype: float64"
      ]
     },
     "execution_count": 131,
     "metadata": {},
     "output_type": "execute_result"
    }
   ],
   "source": [
    "temp_only_denmark = temp_denmark[\"AverageTemperature\"]\n",
    "# Convert the index to month-end frequency without filling missing values\n",
    "temp_only_denmark"
   ]
  },
  {
   "cell_type": "code",
   "execution_count": 132,
   "id": "b2222a87-3a05-49b3-abea-48b5de546275",
   "metadata": {},
   "outputs": [],
   "source": [
    "train = temp_only_denmark[:len(temp_only_denmark)-12]\n",
    "test = temp_only_denmark[len(temp_only_denmark)-12:]"
   ]
  },
  {
   "cell_type": "code",
   "execution_count": 139,
   "id": "72f07941-e94f-4a76-856e-0e96917f6ab5",
   "metadata": {},
   "outputs": [],
   "source": [
    "from statsmodels.tsa.ar_model import AutoReg\n",
    "model = AutoReg(train, lags= 5).fit()"
   ]
  },
  {
   "cell_type": "code",
   "execution_count": 140,
   "id": "9a0a8f3d-aec6-44ee-877d-399de3ac9472",
   "metadata": {},
   "outputs": [
    {
     "name": "stdout",
     "output_type": "stream",
     "text": [
      "                            AutoReg Model Results                             \n",
      "==============================================================================\n",
      "Dep. Variable:     AverageTemperature   No. Observations:                 3227\n",
      "Model:                     AutoReg(5)   Log Likelihood               -6704.493\n",
      "Method:               Conditional MLE   S.D. of innovations              1.938\n",
      "Date:                Tue, 06 Feb 2024   AIC                          13422.985\n",
      "Time:                        11:41:48   BIC                          13465.530\n",
      "Sample:                    04-30-1744   HQIC                         13438.233\n",
      "                         - 09-30-2012                                         \n",
      "=========================================================================================\n",
      "                            coef    std err          z      P>|z|      [0.025      0.975]\n",
      "-----------------------------------------------------------------------------------------\n",
      "const                     5.8748      0.114     51.658      0.000       5.652       6.098\n",
      "AverageTemperature.L1     0.7394      0.017     43.404      0.000       0.706       0.773\n",
      "AverageTemperature.L2     0.0416      0.021      1.961      0.050    1.37e-05       0.083\n",
      "AverageTemperature.L3    -0.1105      0.021     -5.225      0.000      -0.152      -0.069\n",
      "AverageTemperature.L4    -0.1745      0.021     -8.220      0.000      -0.216      -0.133\n",
      "AverageTemperature.L5    -0.2548      0.017    -14.949      0.000      -0.288      -0.221\n",
      "                                    Roots                                    \n",
      "=============================================================================\n",
      "                  Real          Imaginary           Modulus         Frequency\n",
      "-----------------------------------------------------------------------------\n",
      "AR.1            0.8784           -0.5071j            1.0142           -0.0833\n",
      "AR.2            0.8784           +0.5071j            1.0142            0.0833\n",
      "AR.3           -1.6163           -0.0000j            1.6163           -0.5000\n",
      "AR.4           -0.4127           -1.4798j            1.5363           -0.2933\n",
      "AR.5           -0.4127           +1.4798j            1.5363            0.2933\n",
      "-----------------------------------------------------------------------------\n"
     ]
    }
   ],
   "source": [
    "print(model.summary())"
   ]
  },
  {
   "cell_type": "code",
   "execution_count": 141,
   "id": "7b6e9569-5835-4961-97e3-4b6df5ca80f1",
   "metadata": {},
   "outputs": [
    {
     "name": "stdout",
     "output_type": "stream",
     "text": [
      "3227\n"
     ]
    }
   ],
   "source": [
    "print(len(train))"
   ]
  },
  {
   "cell_type": "code",
   "execution_count": 142,
   "id": "586d846f-7f75-48fd-ad89-f045ad912ed4",
   "metadata": {},
   "outputs": [],
   "source": [
    "pred = model.predict(start=len(train), end=len(temp_only_denmark)-1, dynamic=False)"
   ]
  },
  {
   "cell_type": "code",
   "execution_count": 145,
   "id": "b6d18901-0ad1-4997-bdbb-67002d1735ff",
   "metadata": {},
   "outputs": [
    {
     "name": "stdout",
     "output_type": "stream",
     "text": [
      "2012-10-31     9.098404\n",
      "2012-11-30     4.822909\n",
      "2012-12-31     0.960417\n",
      "2013-01-31    -1.010060\n",
      "2013-02-28    -0.412446\n",
      "2013-03-31     2.261362\n",
      "2013-04-30     6.244652\n",
      "2013-05-31    10.563344\n",
      "2013-06-30    14.024749\n",
      "2013-07-31    15.704734\n",
      "2013-08-31    15.237164\n",
      "2013-09-30    12.810047\n",
      "Freq: ME, dtype: float64\n"
     ]
    },
    {
     "data": {
      "image/png": "[encoded data removed]",
      "text/plain": [
       "<Figure size 640x480 with 1 Axes>"
      ]
     },
     "metadata": {},
     "output_type": "display_data"
    }
   ],
   "source": [
    "from matplotlib import pyplot\n",
    "pyplot.plot(pred)\n",
    "pyplot.plot(test, color = 'red')\n",
    "print(pred)"
   ]
  },
  {
   "cell_type": "raw",
   "id": "0045f6bd-c651-451e-aed6-63db67128aed",
   "metadata": {},
   "source": []
  },
  {
   "cell_type": "code",
   "execution_count": 148,
   "id": "d7ff342f-24ec-4b7a-92bd-0a45f8069392",
   "metadata": {},
   "outputs": [
    {
     "name": "stdout",
     "output_type": "stream",
     "text": [
      "2013-11-30     5.142000\n",
      "2013-12-31     1.978784\n",
      "2014-01-31     0.427041\n",
      "2014-02-28     0.851068\n",
      "2014-03-31     3.085339\n",
      "2014-04-30     6.488633\n",
      "2014-05-31    10.128084\n",
      "2014-06-30    13.035275\n",
      "2014-07-31    14.462245\n",
      "2014-08-31    14.072825\n",
      "2014-09-30    12.020554\n",
      "2014-10-31     8.894363\n",
      "Freq: ME, dtype: float64\n"
     ]
    },
    {
     "data": {
      "image/png": "[encoded data removed]",
      "text/plain": [
       "<Figure size 640x480 with 1 Axes>"
      ]
     },
     "metadata": {},
     "output_type": "display_data"
    }
   ],
   "source": [
    "pred_future=model.predict(start=len(temp_only_denmark)+1,end=len(temp_only_denmark)+12, dynamic=False)\n",
    "pyplot.plot(pred_future)\n",
    "print(pred_future)"
   ]
  },
  {
   "cell_type": "code",
   "execution_count": null,
   "id": "a6d32deb-e102-4b93-9524-8e746e217d54",
   "metadata": {},
   "outputs": [],
   "source": []
  }
 ],
 "metadata": {
  "kernelspec": {
   "display_name": "Python 3 (ipykernel)",
   "language": "python",
   "name": "python3"
  },
  "language_info": {
   "codemirror_mode": {
    "name": "ipython",
    "version": 3
   },
   "file_extension": ".py",
   "mimetype": "text/x-python",
   "name": "python",
   "nbconvert_exporter": "python",
   "pygments_lexer": "ipython3",
   "version": "3.12.1"
  }
 },
 "nbformat": 4,
 "nbformat_minor": 5
}
